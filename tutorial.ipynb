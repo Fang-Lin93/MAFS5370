{
 "cells": [
  {
   "cell_type": "markdown",
   "metadata": {},
   "source": [
    "# Tutorial: Reinforcement learning through Self-play for Super-Tic-Tac-Toe\n",
    "\n",
    "This notebook aims to give a simple tutorial of the running logic of this project. Here is the outline:\n",
    "   1. Super-Tic-Tac-Toe environment\n",
    "   2. Double DQN agent\n",
    "   3. Replay buffer\n",
    "   4. Training/Evaluation"
   ]
  },
  {
   "cell_type": "markdown",
   "metadata": {},
   "source": [
    "## 1. Super-Tic-Tac-Toe environment\n",
    "\n",
    "The environment [Super-Tic-Tac-Toe](envs/super_tic_tac_toe.py) extends the original Tic-Tac-Toe environment by introducing two features to increase the difficulty: larger board (6x6) and stochastic transitions. \n",
    "\n",
    "Mimicking how human visually read a board state, I represent the board state as a 6x6x2 0-1 tensor with 1 indicating occupied positions and 0 empty cells, respectively. Here are two channels for each cell with each corresponding to one specific player. Here is how to initialize an environment:\n"
   ]
  },
  {
   "cell_type": "code",
   "execution_count": 1,
   "metadata": {
    "ExecuteTime": {
     "end_time": "2024-03-20T04:30:08.041522Z",
     "start_time": "2024-03-20T04:30:07.951323Z"
    }
   },
   "outputs": [
    {
     "name": "stdout",
     "output_type": "stream",
     "text": [
      "board shape = (6, 6, 2)\n",
      "legal_actions mask shape = [1. 1. 1. 1. 1. 1. 1. 1. 1. 1. 1. 1. 1. 1. 1. 1. 1. 1. 1. 1. 1. 1. 1. 1.\n",
      " 1. 1. 1. 1. 1. 1. 1. 1. 1. 1. 1. 1.]\n",
      "current player_id = 1\n",
      "The initial board:\n",
      "| _  _  _  _  _  _ |\n",
      "| _  _  _  _  _  _ |\n",
      "| _  _  _  _  _  _ |\n",
      "| _  _  _  _  _  _ |\n",
      "| _  _  _  _  _  _ |\n",
      "| _  _  _  _  _  _ |\n"
     ]
    }
   ],
   "source": [
    "import random\n",
    "import numpy as np\n",
    "from envs import SuperTicTacToeEnv\n",
    "\n",
    "random.seed(0)\n",
    "np.random.seed(0)\n",
    "\n",
    "\n",
    "env = SuperTicTacToeEnv(random_place_prob=0.5)  # set random_place_prob=0.5 to be the same as the project requirement\n",
    "\n",
    "board, la_mask, player_id, done = env.reset()\n",
    "        \n",
    "print('board shape =', board.shape)\n",
    "print('legal_actions mask shape =', la_mask)  # 1 indicates available actions, explained later\n",
    "print('current player_id =', player_id)\n",
    "\n",
    "print('The initial board:')\n",
    "env.render()"
   ]
  },
  {
   "cell_type": "markdown",
   "source": [
    "Each environment step receives an action and returns several useful information: `board state`, `legal action mask`, `current player id`, `done signal` and the `rewards`. The accepted action is one of the 36 integers ranging from 0 to 35, indicating the position index.\n",
    "\n",
    "The default setting for reward value is: +1 for winning, -1 for losing, 0 for tie or continuing.\n",
    "\n",
    "The initial player is randomly chosen for fairness. Here I finish the game with randomly chosen actions. You can visually check the board using `env.render()` method."
   ],
   "metadata": {
    "collapsed": false
   }
  },
  {
   "cell_type": "code",
   "execution_count": 2,
   "outputs": [
    {
     "name": "stdout",
     "output_type": "stream",
     "text": [
      "winner = 1\n",
      "rewards = [-1, 1]\n",
      "Visualizing the env:\n",
      "| X  O  _  _  O  _ |\n",
      "| O  X  X  X  X  X |\n",
      "| X  _  _  O  O  _ |\n",
      "| _  X  _  X  O  X |\n",
      "| O  X  O  _  _  _ |\n",
      "| _  _  O  _  _  O |\n"
     ]
    }
   ],
   "source": [
    "# finish the game with random actions\n",
    "while not done:\n",
    "    a = np.random.choice(env.get_legal_actions())\n",
    "    (board, la_mask, player_id, done), rewards = env.step(a)\n",
    "\n",
    "print('winner =', env.winner)\n",
    "print('rewards =', rewards)\n",
    "print('Visualizing the env:')\n",
    "env.render()"
   ],
   "metadata": {
    "collapsed": false,
    "ExecuteTime": {
     "end_time": "2024-03-20T04:30:08.068104Z",
     "start_time": "2024-03-20T04:30:08.057065Z"
    }
   }
  },
  {
   "cell_type": "markdown",
   "metadata": {},
   "source": [
    "There are **54** winner patterns. Here I list 3 examples:"
   ]
  },
  {
   "cell_type": "code",
   "execution_count": 3,
   "metadata": {
    "ExecuteTime": {
     "end_time": "2024-03-20T04:30:08.110671Z",
     "start_time": "2024-03-20T04:30:08.061879Z"
    }
   },
   "outputs": [
    {
     "name": "stdout",
     "output_type": "stream",
     "text": [
      "# of winner patterns = 54\n",
      "| O  O  O  O  _  _ |\n",
      "| _  _  _  _  _  _ |\n",
      "| _  _  _  _  _  _ |\n",
      "| _  _  _  _  _  _ |\n",
      "| _  _  _  _  _  _ |\n",
      "| _  _  _  _  _  _ |\n",
      "\n",
      "| _  _  _  _  _  _ |\n",
      "| _  _  _  O  _  _ |\n",
      "| _  _  _  O  _  _ |\n",
      "| _  _  _  O  _  _ |\n",
      "| _  _  _  O  _  _ |\n",
      "| _  _  _  _  _  _ |\n",
      "\n",
      "| _  _  _  _  _  _ |\n",
      "| _  _  _  _  _  _ |\n",
      "| _  O  _  _  _  _ |\n",
      "| _  _  O  _  _  _ |\n",
      "| _  _  _  O  _  _ |\n",
      "| _  _  _  _  O  _ |\n"
     ]
    }
   ],
   "source": [
    "winner_patterns = env.get_winner_pattern()\n",
    "\n",
    "print('# of winner patterns =', len(winner_patterns))\n",
    "env.render(winner_patterns[0])  # row example\n",
    "env.render(winner_patterns[21])  # column example\n",
    "env.render(winner_patterns[50])  # diagonal example"
   ]
  },
  {
   "cell_type": "markdown",
   "metadata": {},
   "source": [
    "### Observations (reinforcement learning states)\n",
    "\n",
    "The Super-Tic-Tac-Toe is a perfect information game, where the board state is fully observable for both players, i.e., the *observations* are the same as the environment *states*. However, the `env.board` is not the observation used by the agent, as the agent should also know its player_id as well.\n",
    " \n",
    "To simply the representation of the observations for the neural network agent to learn, I define the observations as **6x6x2** images with a little re-arrangement of the `env.board`: with the first channel **always** representing 'my positions' and the second channel **always** encoding the 'opponent positions'. That is I need to fetch the board state using the player_id:\n",
    " \n",
    "`observation = board[:, :, [player_id, 1-player_id]]`."
   ]
  },
  {
   "cell_type": "code",
   "execution_count": 4,
   "metadata": {
    "ExecuteTime": {
     "end_time": "2024-03-20T04:30:08.113046Z",
     "start_time": "2024-03-20T04:30:08.068133Z"
    }
   },
   "outputs": [
    {
     "name": "stdout",
     "output_type": "stream",
     "text": [
      "my player_id =  0\n",
      "my observations ('O' for myself and 'X' for the opponent):\n",
      "| X  O  _  _  O  _ |\n",
      "| O  X  X  X  X  X |\n",
      "| X  _  _  O  O  _ |\n",
      "| _  X  _  X  O  X |\n",
      "| O  X  O  _  _  _ |\n",
      "| _  _  O  _  _  O |\n",
      "\n",
      "my positions:\n",
      "| _  O  _  _  O  _ |\n",
      "| O  _  _  _  _  _ |\n",
      "| _  _  _  O  O  _ |\n",
      "| _  _  _  _  O  _ |\n",
      "| O  _  O  _  _  _ |\n",
      "| _  _  O  _  _  O |\n",
      "\n",
      "opponent positions:\n",
      "| X  _  _  _  _  _ |\n",
      "| _  X  X  X  X  X |\n",
      "| X  _  _  _  _  _ |\n",
      "| _  X  _  X  _  X |\n",
      "| _  X  _  _  _  _ |\n",
      "| _  _  _  _  _  _ |\n"
     ]
    }
   ],
   "source": [
    "my_obs = board[:, :, [player_id, 1-player_id]]\n",
    "\n",
    "print('my player_id = ', player_id)\n",
    "print(\"my observations ('O' for myself and 'X' for the opponent):\")\n",
    "env.render(my_obs)\n",
    "\n",
    "print('my positions:')\n",
    "env.render(my_obs[:, :, 0], mark=player_id)\n",
    "\n",
    "print('opponent positions:')\n",
    "env.render(my_obs[:, :, 1], mark=1 - player_id)\n",
    "\n"
   ]
  },
  {
   "cell_type": "markdown",
   "source": [
    "### Actions\n",
    "\n",
    "Each action is an integer ranging from 0 to 35, indicating the index of the 6x6 board cells. The action should be chosen from the legal action sets (empty positions). The environment provides 2 ways for choosing legal action: masks and sets. \n",
    "\n",
    "* The `legal action masks` *m* are convenient for downstream probabilistic polices. For example, if the predicted policy distribution is *p* (36-dim vector), then the action can be sampled from *p Hadamard_product m*, where the occupied positions always have zero sampling probability.\n",
    "\n",
    "* The `legal action set` is convenient for some other methods, such as Monte-Carlo Tree Search.\n",
    "\n",
    "You can choose your own preferences for legal action representations."
   ],
   "metadata": {
    "collapsed": false
   }
  },
  {
   "cell_type": "code",
   "execution_count": 5,
   "outputs": [
    {
     "name": "stdout",
     "output_type": "stream",
     "text": [
      "legal action masks from env.step: [0. 0. 1. 1. 0. 1. 0. 0. 0. 0. 0. 0. 0. 1. 1. 0. 0. 1. 1. 0. 1. 0. 0. 0.\n",
      " 0. 0. 0. 1. 1. 1. 1. 1. 0. 1. 1. 0.]\n",
      "legal action set: [2, 3, 5, 13, 14, 17, 18, 20, 27, 28, 29, 30, 31, 33, 34]\n"
     ]
    }
   ],
   "source": [
    "# 1. legal action masks: 1 for available positions; 0 for occupied positions\n",
    "print('legal action masks from env.step:', la_mask)\n",
    "\n",
    "# 2. index set of legal actions\n",
    "print('legal action set:', env.get_legal_actions())"
   ],
   "metadata": {
    "collapsed": false,
    "ExecuteTime": {
     "end_time": "2024-03-20T04:30:08.113541Z",
     "start_time": "2024-03-20T04:30:08.074850Z"
    }
   }
  },
  {
   "cell_type": "markdown",
   "metadata": {},
   "source": [
    "## 2. Double DQN agent\n",
    "\n",
    "For simplicity, I define the [base agent framework](agents/agent.py) in my code. Each agent should define its own `update(self, batch: Batch)` method for how to train from a data batch and the `sample_actions(self, *args, **kwargs)` method for how to sample actions. \n",
    "\n",
    "The Double DQN agent requires two Q-networks: a policy Q-network and a target Q-network. The policy Q-network is trained directly through the gradient descent. The target Q-network is the exponential moving average of learned policy Q-network.\n",
    "\n",
    "As the board observations is much like images with 2 channels, I define the Q-network as a 2D convolutional neural network for the game:\n",
    "\n",
    "* Layers: 3 hidden layers with each of the dimensions equaling 64, the final activation of CNN layers squeezes the dimension to 1.\n",
    "* Activation: [mish](https://arxiv.org/abs/1908.08681).\n",
    "* Final activation layer: a MLP layer to project the activation of the CNN to the action dimension by `nn.Dense(out_dim)(x.reshape(x.shape[0], -1))`."
   ]
  },
  {
   "cell_type": "markdown",
   "source": [
    "Here is a summary of the Q-network module represented as a table:"
   ],
   "metadata": {
    "collapsed": false
   }
  },
  {
   "cell_type": "code",
   "execution_count": 6,
   "metadata": {
    "ExecuteTime": {
     "end_time": "2024-03-20T04:30:08.650381Z",
     "start_time": "2024-03-20T04:30:08.085788Z"
    }
   },
   "outputs": [
    {
     "name": "stdout",
     "output_type": "stream",
     "text": [
      "\n",
      "\u001B[3m                                  CNN Summary                                   \u001B[0m\n",
      "┏━━━━━━━━━┳━━━━━━━━┳━━━━━━━━━━━━┳━━━━━━━━━━━┳━━━━━━━━━┳━━━━━━━━━━━┳━━━━━━━━━━━━┓\n",
      "┃\u001B[1m \u001B[0m\u001B[1mpath   \u001B[0m\u001B[1m \u001B[0m┃\u001B[1m \u001B[0m\u001B[1mmodule\u001B[0m\u001B[1m \u001B[0m┃\u001B[1m \u001B[0m\u001B[1minputs    \u001B[0m\u001B[1m \u001B[0m┃\u001B[1m \u001B[0m\u001B[1moutputs  \u001B[0m\u001B[1m \u001B[0m┃\u001B[1m \u001B[0m\u001B[1mflops  \u001B[0m\u001B[1m \u001B[0m┃\u001B[1m \u001B[0m\u001B[1mvjp_flops\u001B[0m\u001B[1m \u001B[0m┃\u001B[1m \u001B[0m\u001B[1mparams    \u001B[0m\u001B[1m \u001B[0m┃\n",
      "┡━━━━━━━━━╇━━━━━━━━╇━━━━━━━━━━━━╇━━━━━━━━━━━╇━━━━━━━━━╇━━━━━━━━━━━╇━━━━━━━━━━━━┩\n",
      "│         │ CNN    │ \u001B[2mfloat32\u001B[0m[1… │ \u001B[2mfloat32\u001B[0m[… │ 4364395 │ 13128384  │            │\n",
      "├─────────┼────────┼────────────┼───────────┼─────────┼───────────┼────────────┤\n",
      "│ Conv_0  │ Conv   │ \u001B[2mfloat32\u001B[0m[1… │ \u001B[2mfloat32\u001B[0m[… │ 67840   │ 202368    │ bias:      │\n",
      "│         │        │            │           │         │           │ \u001B[2mfloat32\u001B[0m[6… │\n",
      "│         │        │            │           │         │           │ kernel:    │\n",
      "│         │        │            │           │         │           │ \u001B[2mfloat32\u001B[0m[3… │\n",
      "│         │        │            │           │         │           │            │\n",
      "│         │        │            │           │         │           │ \u001B[1m1,216 \u001B[0m\u001B[1;2m(4.9\u001B[0m │\n",
      "│         │        │            │           │         │           │ \u001B[1;2mKB)\u001B[0m        │\n",
      "├─────────┼────────┼────────────┼───────────┼─────────┼───────────┼────────────┤\n",
      "│ Conv_1  │ Conv   │ \u001B[2mfloat32\u001B[0m[1… │ \u001B[2mfloat32\u001B[0m[… │ 2099456 │ 6332928   │ bias:      │\n",
      "│         │        │            │           │         │           │ \u001B[2mfloat32\u001B[0m[6… │\n",
      "│         │        │            │           │         │           │ kernel:    │\n",
      "│         │        │            │           │         │           │ \u001B[2mfloat32\u001B[0m[3… │\n",
      "│         │        │            │           │         │           │            │\n",
      "│         │        │            │           │         │           │ \u001B[1m36,928 \u001B[0m    │\n",
      "│         │        │            │           │         │           │ \u001B[1;2m(147.7 KB)\u001B[0m │\n",
      "├─────────┼────────┼────────────┼───────────┼─────────┼───────────┼────────────┤\n",
      "│ Conv_2  │ Conv   │ \u001B[2mfloat32\u001B[0m[1… │ \u001B[2mfloat32\u001B[0m[… │ 2099456 │ 6332928   │ bias:      │\n",
      "│         │        │            │           │         │           │ \u001B[2mfloat32\u001B[0m[6… │\n",
      "│         │        │            │           │         │           │ kernel:    │\n",
      "│         │        │            │           │         │           │ \u001B[2mfloat32\u001B[0m[3… │\n",
      "│         │        │            │           │         │           │            │\n",
      "│         │        │            │           │         │           │ \u001B[1m36,928 \u001B[0m    │\n",
      "│         │        │            │           │         │           │ \u001B[1;2m(147.7 KB)\u001B[0m │\n",
      "├─────────┼────────┼────────────┼───────────┼─────────┼───────────┼────────────┤\n",
      "│ Conv_3  │ Conv   │ \u001B[2mfloat32\u001B[0m[1… │ \u001B[2mfloat32\u001B[0m[… │ 32804   │ 98952     │ bias:      │\n",
      "│         │        │            │           │         │           │ \u001B[2mfloat32\u001B[0m[1] │\n",
      "│         │        │            │           │         │           │ kernel:    │\n",
      "│         │        │            │           │         │           │ \u001B[2mfloat32\u001B[0m[3… │\n",
      "│         │        │            │           │         │           │            │\n",
      "│         │        │            │           │         │           │ \u001B[1m577 \u001B[0m\u001B[1;2m(2.3 \u001B[0m  │\n",
      "│         │        │            │           │         │           │ \u001B[1;2mKB)\u001B[0m        │\n",
      "├─────────┼────────┼────────────┼───────────┼─────────┼───────────┼────────────┤\n",
      "│ Dense_0 │ Dense  │ \u001B[2mfloat32\u001B[0m[1… │ \u001B[2mfloat32\u001B[0m[… │ 2628    │ 9144      │ bias:      │\n",
      "│         │        │            │           │         │           │ \u001B[2mfloat32\u001B[0m[3… │\n",
      "│         │        │            │           │         │           │ kernel:    │\n",
      "│         │        │            │           │         │           │ \u001B[2mfloat32\u001B[0m[3… │\n",
      "│         │        │            │           │         │           │            │\n",
      "│         │        │            │           │         │           │ \u001B[1m1,332 \u001B[0m\u001B[1;2m(5.3\u001B[0m │\n",
      "│         │        │            │           │         │           │ \u001B[1;2mKB)\u001B[0m        │\n",
      "├─────────┼────────┼────────────┼───────────┼─────────┼───────────┼────────────┤\n",
      "│\u001B[1m \u001B[0m\u001B[1m       \u001B[0m\u001B[1m \u001B[0m│\u001B[1m \u001B[0m\u001B[1m      \u001B[0m\u001B[1m \u001B[0m│\u001B[1m \u001B[0m\u001B[1m          \u001B[0m\u001B[1m \u001B[0m│\u001B[1m \u001B[0m\u001B[1m         \u001B[0m\u001B[1m \u001B[0m│\u001B[1m \u001B[0m\u001B[1m       \u001B[0m\u001B[1m \u001B[0m│\u001B[1m \u001B[0m\u001B[1m    Total\u001B[0m\u001B[1m \u001B[0m│\u001B[1m \u001B[0m\u001B[1m76,981    \u001B[0m\u001B[1m \u001B[0m│\n",
      "│\u001B[1m         \u001B[0m│\u001B[1m        \u001B[0m│\u001B[1m            \u001B[0m│\u001B[1m           \u001B[0m│\u001B[1m         \u001B[0m│\u001B[1m           \u001B[0m│\u001B[1m \u001B[0m\u001B[1;2m(307.9 KB)\u001B[0m\u001B[1m \u001B[0m│\n",
      "└─────────┴────────┴────────────┴───────────┴─────────┴───────────┴────────────┘\n",
      "\u001B[1m                                                                                \u001B[0m\n",
      "\u001B[1m                      Total Parameters: 76,981 \u001B[0m\u001B[1;2m(307.9 KB)\u001B[0m\u001B[1m                       \u001B[0m\n",
      "\n"
     ]
    }
   ],
   "source": [
    "import jax\n",
    "from flax import linen as nn\n",
    "from networks.mlp import CNN, mish\n",
    "\n",
    "critic_def = CNN(hidden_dims=(64, 64, 64, 1),\n",
    "                 out_dim=36,  # number of action dimensions = 36\n",
    "                 activations=mish,  # A Self Regularized Non-Monotonic Activation Function\n",
    "                 dropout_rate=0.,\n",
    "                 layer_norm=False)\n",
    "\n",
    "print(nn.tabulate(critic_def, jax.random.key(0), compute_flops=True, compute_vjp_flops=True)(jax.numpy.zeros((1,6,6,2))))"
   ]
  },
  {
   "cell_type": "markdown",
   "metadata": {},
   "source": [
    "The packaged Double DQN agent is given in the [dqn.py](agents/dqn.py) script. In my tutorial, I follow some conventional settings to create the agent:\n",
    "\n",
    "* Discount rate: 0.99\n",
    "* Epsilon greedy: starting from 1 and linearly decay to 0.01\n",
    "* Gradient descent: [Adam](https://arxiv.org/abs/1412.6980) with cosine decay learning rate, starting from 0.0003\n",
    "* Updating target Q-network: exponential moving average with learning rate 0.005\n",
    "\n",
    "Here is an example of defining the agent: `max_steps` defines the total number of gradient steps. It may take a much larger value (> 10 million) to converge!\n"
   ]
  },
  {
   "cell_type": "code",
   "execution_count": 7,
   "metadata": {
    "ExecuteTime": {
     "end_time": "2024-03-20T04:30:09.562948Z",
     "start_time": "2024-03-20T04:30:08.647144Z"
    }
   },
   "outputs": [],
   "source": [
    "from agents import DQNLearner\n",
    "\n",
    "max_steps = 10000\n",
    "agent = DQNLearner(seed=0,\n",
    "                   hidden_dims=(64, 64, 64, 1),\n",
    "                   obs_shape=(6, 6, 2),\n",
    "                   act_dim=36,\n",
    "                   lr_decay_steps=max_steps,\n",
    "                   greedy_max=1,\n",
    "                   greedy_min=0.01,\n",
    "                   greedy_decay_steps=50,\n",
    "                   ema_tau=0.005)"
   ]
  },
  {
   "cell_type": "markdown",
   "metadata": {},
   "source": [
    "In the training process of Double DQN, the Bellman target is computed requiring both the policy Q-network and the target Q-network. The policy Q-network gives the greedy actions while the target Q-network evaluate the greedy actions to alleviate the overestimation. See the [paper](https://arxiv.org/abs/1509.06461v3) or my [codes](agents/dqn.py) for the details of the implementation of Double DQN"
   ]
  },
  {
   "cell_type": "markdown",
   "metadata": {},
   "source": [
    "## 3. Replay buffer\n",
    "\n",
    "The replay buffer stores the transitions for the Q-learning. Each transition contains a tuple: \n",
    "\n",
    "``\n",
    "(observation, action, reward, next_observation, mask).\n",
    "``\n",
    "\n",
    "The `mask = 1 - done` is for computing the Bellman target `target_q = reward + discount * masks * next_q`. \n",
    "\n",
    "In this game, the board has rotation symmetries: a board rotated by `n*90` degrees actually gives the same observation. To increase the sampling efficiency, we can expand the transition data by rotating the board observation by `n*90 (n=1, 2, 3)` degrees and store them into the buffer as well. \n",
    "\n",
    "In fact, the reflection (transpose) transformation also gives the same observations. Furthermore, each transformation with the minimal rotation granularity = 90-degree inside the orthogonal group O(6) also gives the same observations. For simplicity, here I only consider the rotations. You can try other symmetry transforms as you like.\n",
    "\n",
    "Here are examples of rotations:"
   ]
  },
  {
   "cell_type": "code",
   "execution_count": 8,
   "outputs": [
    {
     "name": "stdout",
     "output_type": "stream",
     "text": [
      "my observations:\n",
      "| X  O  _  _  O  _ |\n",
      "| O  X  X  X  X  X |\n",
      "| X  _  _  O  O  _ |\n",
      "| _  X  _  X  O  X |\n",
      "| O  X  O  _  _  _ |\n",
      "| _  _  O  _  _  O |\n",
      "\n",
      "rotated 90 degrees:\n",
      "| _  X  _  X  _  O |\n",
      "| O  X  O  O  _  _ |\n",
      "| _  X  O  X  _  _ |\n",
      "| _  X  _  _  O  O |\n",
      "| O  X  _  X  X  _ |\n",
      "| X  O  X  _  O  _ |\n",
      "\n",
      "rotated 180 degrees:\n",
      "| O  _  _  O  _  _ |\n",
      "| _  _  _  O  X  O |\n",
      "| X  O  X  _  X  _ |\n",
      "| _  O  O  _  _  X |\n",
      "| X  X  X  X  X  O |\n",
      "| _  O  _  _  O  X |\n",
      "\n",
      "rotated 270 degrees:\n",
      "| _  O  _  X  O  X |\n",
      "| _  X  X  _  X  O |\n",
      "| O  O  _  _  X  _ |\n",
      "| _  _  X  O  X  _ |\n",
      "| _  _  O  O  X  O |\n",
      "| O  _  X  _  X  _ |\n"
     ]
    }
   ],
   "source": [
    "print('my observations:')\n",
    "env.render(my_obs)\n",
    "print('rotated 90 degrees:')\n",
    "env.render(np.rot90(my_obs))\n",
    "print('rotated 180 degrees:')\n",
    "env.render(np.rot90(np.rot90(my_obs)))\n",
    "print('rotated 270 degrees:')\n",
    "env.render(np.rot90(np.rot90(np.rot90(my_obs))))"
   ],
   "metadata": {
    "collapsed": false,
    "ExecuteTime": {
     "end_time": "2024-03-20T04:30:09.581010Z",
     "start_time": "2024-03-20T04:30:09.563103Z"
    }
   }
  },
  {
   "cell_type": "markdown",
   "source": [
    "The corresponding actions should also be carefully transferred to match the rotated broads. The transformation is given as the following:\n",
    "\n",
    "``\n",
    "row, col = action // 6, action % 6\n",
    "``\n",
    "``\n",
    "rotated_action = 6 * (5 - col) + row\n",
    "``"
   ],
   "metadata": {
    "collapsed": false
   }
  },
  {
   "cell_type": "markdown",
   "source": [
    "Here is an example of action rotation:"
   ],
   "metadata": {
    "collapsed": false
   }
  },
  {
   "cell_type": "code",
   "execution_count": 9,
   "outputs": [
    {
     "name": "stdout",
     "output_type": "stream",
     "text": [
      "Action (marked as 'O') is rotated 90 degrees to a new position (marked as 'X'): \n",
      "| _  _  _  _  _  _ |\n",
      "| _  _  X  _  _  _ |\n",
      "| _  _  _  _  O  _ |\n",
      "| _  _  _  _  _  _ |\n",
      "| _  _  _  _  _  _ |\n",
      "| _  _  _  _  _  _ |\n"
     ]
    }
   ],
   "source": [
    "action = 16  # just an example\n",
    "\n",
    "# rotate 90 degrees\n",
    "row, col = action // 6, action % 6\n",
    "rotated_action = 6 * (5 - col) + row\n",
    "\n",
    "# visualization\n",
    "action_board = np.zeros((6, 6, 2))\n",
    "action_board[:, :, 0].reshape(-1)[action] = 1\n",
    "action_board[:, :, 1].reshape(-1)[rotated_action] = 1\n",
    "print(\"Action (marked as 'O') is rotated 90 degrees to a new position (marked as 'X'): \")\n",
    "env.render(action_board)\n",
    "\n"
   ],
   "metadata": {
    "collapsed": false,
    "ExecuteTime": {
     "end_time": "2024-03-20T04:30:09.581596Z",
     "start_time": "2024-03-20T04:30:09.566622Z"
    }
   }
  },
  {
   "cell_type": "markdown",
   "source": [
    "Then, it is ready to define a replay buffer with capacity=1000000 with rotation expansions:"
   ],
   "metadata": {
    "collapsed": false
   }
  },
  {
   "cell_type": "code",
   "execution_count": 10,
   "metadata": {
    "ExecuteTime": {
     "end_time": "2024-03-20T04:30:09.581950Z",
     "start_time": "2024-03-20T04:30:09.568937Z"
    }
   },
   "outputs": [],
   "source": [
    "from datasets.replay_buffer import ReplayBuffer\n",
    "\n",
    "replay_buffer = ReplayBuffer(obs_shape=(6, 6, 2),\n",
    "                             capacity=1000000,\n",
    "                             rotation_expand_k=3)  # rotated at most 3x90 degrees"
   ]
  },
  {
   "cell_type": "markdown",
   "metadata": {},
   "source": [
    "## 4. Training/Evaluation\n",
    "\n",
    "Up to now, we are prepared with the environment to interact with, the agent ready to learn and the replay buffer to store the online transition data. It is time to define the training and the evaluation process. In this tutorial, I use the random agent as the evaluation opponents. It can be replaced by any pre-trained stronger agents.\n",
    "\n",
    "Let's re-define the environment, the agents and the replay buffer here for completeness:"
   ]
  },
  {
   "cell_type": "code",
   "execution_count": 11,
   "metadata": {
    "ExecuteTime": {
     "end_time": "2024-03-20T04:30:09.920982Z",
     "start_time": "2024-03-20T04:30:09.572596Z"
    }
   },
   "outputs": [],
   "source": [
    "# some additional imports\n",
    "from matplotlib import pyplot as plt\n",
    "from envs.super_tic_tac_toe import evaluate_tic_tac_toe\n",
    "from tqdm import tqdm\n",
    "from agents import RandomAgent\n",
    "\n",
    "\"\"\"\n",
    "In my main.py script, I use the tensorboard for statistics tracking. \n",
    "Here I just plot the curves for the tutorial purpose\n",
    "\"\"\"\n",
    "\n",
    "\n",
    "# Hyperparameters\n",
    "max_steps = 100000  # the max number of gradient steps\n",
    "update_interval = 100  # the frequency for gradient descent\n",
    "eval_interval = 1000  # the frequency for evaluation\n",
    "num_eval = 100  # the number of evaluation repetition\n",
    "log_interval = 500  # the frequency for logging training information\n",
    "buffer_size = 1000000\n",
    "batch_size = 256\n",
    "\n",
    "\n",
    "# Environments\n",
    "env = SuperTicTacToeEnv(random_place_prob=0.5)  # the main environment to interaction with\n",
    "eval_env = SuperTicTacToeEnv(random_place_prob=0.5)  # for evaluation only\n",
    "\n",
    "# Agents\n",
    "agent = DQNLearner(seed=0,\n",
    "                   hidden_dims=(64, 64, 64, 1),\n",
    "                   obs_shape=(6, 6, 2),\n",
    "                   act_dim=36,\n",
    "                   lr_decay_steps=max_steps,\n",
    "                   greedy_max=1,\n",
    "                   greedy_min=0.01,\n",
    "                   greedy_decay_steps=max_steps // update_interval // 2)\n",
    "ts_agent = RandomAgent()  # for evaluation only, as the opponent agent\n",
    "\n",
    "# replay buffer\n",
    "replay_buffer = ReplayBuffer(obs_shape=(6, 6, 2),\n",
    "                             capacity=buffer_size,\n",
    "                             rotation_expand_k=3) \n",
    "\n"
   ]
  },
  {
   "cell_type": "markdown",
   "metadata": {},
   "source": [
    "### Here is the main training/evaluation process:"
   ]
  },
  {
   "cell_type": "code",
   "execution_count": 12,
   "metadata": {
    "ExecuteTime": {
     "end_time": "2024-03-20T04:32:04.955439Z",
     "start_time": "2024-03-20T04:30:09.924022Z"
    }
   },
   "outputs": [
    {
     "name": "stderr",
     "output_type": "stream",
     "text": [
      "Train Agent=dqn: 100%|\u001B[32m█████████▉\u001B[0m| 99901/100000 [01:54<00:00, 936.01it/s]"
     ]
    }
   ],
   "source": [
    "\n",
    "avg_winning_rate, eval_t = [], []\n",
    "training_stat, training_t = {}, []\n",
    "\n",
    "# process bar\n",
    "num_steps = 0\n",
    "bar = tqdm(total=max_steps,\n",
    "           desc=f'Train Agent={agent.name}',\n",
    "           smoothing=0.01,\n",
    "           colour='GREEN')\n",
    "\n",
    " # main train/test process\n",
    "while num_steps < max_steps:\n",
    "    board, la, player_id, done = env.reset()\n",
    "\n",
    "    # record transitions for saving to the replay buffer\n",
    "    obs = [None, None]\n",
    "    actions = [None, None]\n",
    "    next_obs = [None, None]\n",
    "    obs[player_id] = board[:, :, [player_id, 1 - player_id]]\n",
    "\n",
    "    # each game process\n",
    "    while not done:\n",
    "        action = ts_agent.sample_actions(observations=board[:, :, [player_id, 1 - player_id]][np.newaxis, :],\n",
    "                                         legal_actions=la[np.newaxis, :])\n",
    "\n",
    "        actions[player_id] = action\n",
    "\n",
    "        # in super-TTT game: rewards = +1 for winner, -1 for loser, 0 for tie or continuing\n",
    "        (board, la, player_id, done), rewards = env.step(action)\n",
    "        next_obs[player_id] = board[:, :, [player_id, 1 - player_id]]\n",
    "\n",
    "        if done:\n",
    "            # add opponent's transition\n",
    "            replay_buffer.insert(observation=obs[player_id],\n",
    "                                 action=actions[player_id],\n",
    "                                 reward=rewards[player_id],\n",
    "                                 next_observation=board[:, :, [player_id, 1 - player_id]],\n",
    "                                 mask=0)\n",
    "\n",
    "            # add final hand's transition\n",
    "            replay_buffer.insert(observation=obs[1 - player_id],\n",
    "                                 action=actions[1 - player_id],\n",
    "                                 reward=rewards[1 - player_id],\n",
    "                                 next_observation=board[:, :, [1 - player_id, player_id]],\n",
    "                                 mask=0)\n",
    "\n",
    "        else:\n",
    "            if obs[player_id] is not None and next_obs[player_id] is not None:\n",
    "                replay_buffer.insert(observation=obs[player_id],\n",
    "                                     action=actions[player_id],\n",
    "                                     reward=rewards[player_id],\n",
    "                                     next_observation=next_obs[player_id],\n",
    "                                     mask=1)  # continue the game\n",
    "\n",
    "            obs[player_id] = next_obs[player_id]\n",
    "\n",
    "        num_steps += 1\n",
    "        if num_steps < max_steps:\n",
    "            bar.update(1)\n",
    "\n",
    "        if num_steps % update_interval == 0:\n",
    "            batch = replay_buffer.sample(batch_size=batch_size)\n",
    "            if batch:\n",
    "                update_info = agent.update(batch)\n",
    "                # record the training information\n",
    "                if num_steps % log_interval == 0:\n",
    "                    for k, v in update_info.items():\n",
    "                        if k not in training_stat:\n",
    "                            training_stat[k] = []\n",
    "                        training_stat[k].append(v)\n",
    "                    training_t.append(num_steps)\n",
    "                            \n",
    "        if num_steps % eval_interval == 0:\n",
    "            agent.training = False\n",
    "            # test against the opponent agent\n",
    "            returns, _, lens = evaluate_tic_tac_toe([agent, ts_agent], eval_env, num_episodes=num_eval)\n",
    "             \n",
    "            \n",
    "            avg_winning_rate.append(returns.mean(axis=0)[0])\n",
    "            eval_t.append(num_steps)\n",
    "            agent.training = True"
   ]
  },
  {
   "cell_type": "code",
   "execution_count": 13,
   "outputs": [
    {
     "name": "stdout",
     "output_type": "stream",
     "text": [
      "Winning rate after training: 0.9\n"
     ]
    }
   ],
   "source": [
    "print(f\"Winning rate after training: {avg_winning_rate[-1]}\")"
   ],
   "metadata": {
    "collapsed": false,
    "ExecuteTime": {
     "end_time": "2024-03-20T04:32:04.962897Z",
     "start_time": "2024-03-20T04:32:04.955881Z"
    }
   }
  },
  {
   "cell_type": "markdown",
   "metadata": {},
   "source": [
    "Plot the curves:"
   ]
  },
  {
   "cell_type": "code",
   "execution_count": 14,
   "metadata": {
    "ExecuteTime": {
     "end_time": "2024-03-20T04:32:05.121131Z",
     "start_time": "2024-03-20T04:32:04.961480Z"
    }
   },
   "outputs": [
    {
     "data": {
      "text/plain": "<Figure size 432x288 with 1 Axes>",
      "image/png": "[encoded data removed]"
     },
     "metadata": {
      "needs_background": "light"
     },
     "output_type": "display_data"
    }
   ],
   "source": [
    "plt.plot(eval_t, avg_winning_rate, label='winning rate')\n",
    "plt.legend()\n",
    "plt.title('Average winning rate')\n",
    "plt.show()"
   ]
  },
  {
   "cell_type": "code",
   "execution_count": 15,
   "outputs": [
    {
     "data": {
      "text/plain": "<Figure size 432x288 with 1 Axes>",
      "image/png": "[encoded data removed]"
     },
     "metadata": {
      "needs_background": "light"
     },
     "output_type": "display_data"
    },
    {
     "data": {
      "text/plain": "<Figure size 432x288 with 1 Axes>",
      "image/png": "[encoded data removed]"
     },
     "metadata": {
      "needs_background": "light"
     },
     "output_type": "display_data"
    }
   ],
   "source": [
    "for k, v in training_stat.items():\n",
    "    plt.plot(training_t, v, label=k)\n",
    "    plt.legend()\n",
    "    plt.title(f'Training {k}')\n",
    "    plt.show()"
   ],
   "metadata": {
    "collapsed": false,
    "ExecuteTime": {
     "end_time": "2024-03-20T04:32:05.223324Z",
     "start_time": "2024-03-20T04:32:05.109758Z"
    }
   }
  },
  {
   "cell_type": "markdown",
   "metadata": {},
   "source": [
    "Notice that the training process is far from convergence (the performance is still increasing, the q-values is not stable). Here I use a small `max_steps` for tutorial demonstration, leading to a training with less than 2 minutes. It requires much more training steps (> 10 million) to converge."
   ]
  },
  {
   "cell_type": "markdown",
   "metadata": {},
   "source": [
    "A longer training process  (approximately 1 hr on a single 4090 GPU) is saved here in the tensorboard for references (trained using [main.py](main.py) script):\n",
    "\n",
    "``\n",
    "%load_ext tensorboard\n",
    "``\n",
    "``\n",
    "%tensorboard --logdir \"results/tensorboard/dqn/20240319-183202\"\n",
    "``"
   ]
  },
  {
   "cell_type": "markdown",
   "source": [
    "![](tb_demo.png)"
   ],
   "metadata": {
    "collapsed": false
   }
  }
 ],
 "metadata": {
  "kernelspec": {
   "display_name": "Python 3 (ipykernel)",
   "language": "python",
   "name": "python3"
  },
  "language_info": {
   "codemirror_mode": {
    "name": "ipython",
    "version": 3
   },
   "file_extension": ".py",
   "mimetype": "text/x-python",
   "name": "python",
   "nbconvert_exporter": "python",
   "pygments_lexer": "ipython3",
   "version": "3.9.7"
  },
  "latex_envs": {
   "LaTeX_envs_menu_present": true,
   "autoclose": false,
   "autocomplete": true,
   "bibliofile": "biblio.bib",
   "cite_by": "apalike",
   "current_citInitial": 1,
   "eqLabelWithNumbers": true,
   "eqNumInitial": 1,
   "hotkeys": {
    "equation": "Ctrl-E",
    "itemize": "Ctrl-I"
   },
   "labels_anchors": false,
   "latex_user_defs": false,
   "report_style_numbering": false,
   "user_envs_cfg": false
  }
 },
 "nbformat": 4,
 "nbformat_minor": 4
}
